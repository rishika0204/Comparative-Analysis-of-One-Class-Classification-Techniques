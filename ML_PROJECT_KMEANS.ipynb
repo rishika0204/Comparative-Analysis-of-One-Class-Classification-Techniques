{
 "cells": [
  {
   "cell_type": "code",
   "execution_count": 2,
   "metadata": {},
   "outputs": [],
   "source": [
    "import numpy as np\n",
    "import pandas as pd\n",
    "from sklearn.cluster import KMeans\n",
    "from sklearn.neighbors import KNeighborsClassifier\n",
    "from sklearn.model_selection import train_test_split\n",
    "from sklearn.preprocessing import normalize\n",
    "from sklearn.metrics import confusion_matrix\n",
    "from sklearn.metrics import accuracy_score\n",
    "from sklearn.metrics import precision_score\n",
    "from sklearn.metrics import recall_score\n",
    "from sklearn.metrics import f1_score\n",
    "import time\n",
    "\n",
    "\n"
   ]
  },
  {
   "cell_type": "code",
   "execution_count": 3,
   "metadata": {},
   "outputs": [
    {
     "data": {
      "text/plain": [
       "Time      0\n",
       "V1        0\n",
       "V2        0\n",
       "V3        0\n",
       "V4        0\n",
       "V5        0\n",
       "V6        0\n",
       "V7        0\n",
       "V8        0\n",
       "V9        0\n",
       "V10       0\n",
       "V11       0\n",
       "V12       0\n",
       "V13       0\n",
       "V14       0\n",
       "V15       0\n",
       "V16       0\n",
       "V17       0\n",
       "V18       0\n",
       "V19       0\n",
       "V20       0\n",
       "V21       0\n",
       "V22       0\n",
       "V23       0\n",
       "V24       0\n",
       "V25       0\n",
       "V26       0\n",
       "V27       0\n",
       "V28       0\n",
       "Amount    0\n",
       "Class     0\n",
       "dtype: int64"
      ]
     },
     "execution_count": 3,
     "metadata": {},
     "output_type": "execute_result"
    }
   ],
   "source": [
    "\n",
    "tic=time.time()\n",
    "full_data=pd.read_csv(\"./creditcard.csv\")\n",
    "fill_data = full_data.dropna()\n",
    "full_data.isnull().sum()"
   ]
  },
  {
   "cell_type": "code",
   "execution_count": 4,
   "metadata": {},
   "outputs": [],
   "source": [
    "full_data=full_data.sample(frac=1)#randomize the whole dataset\n",
    "full_features=full_data.drop([\"Time\",\"Class\"],axis=1)\n",
    "full_labels=pd.DataFrame(full_data[[\"Class\"]])\n",
    "full_features_array=full_features.values\n",
    "full_labels_array=full_labels.values\n",
    "train_features,test_features,train_labels,test_labels=train_test_split(full_features_array,full_labels_array,train_size=0.90)\n",
    "train_features=normalize(train_features)\n",
    "test_features=normalize(test_features)\n"
   ]
  },
  {
   "cell_type": "code",
   "execution_count": 5,
   "metadata": {},
   "outputs": [
    {
     "name": "stderr",
     "output_type": "stream",
     "text": [
      "c:\\Users\\doshi\\AppData\\Local\\Programs\\Python\\Python310\\lib\\site-packages\\sklearn\\cluster\\_kmeans.py:870: FutureWarning: The default value of `n_init` will change from 10 to 'auto' in 1.4. Set the value of `n_init` explicitly to suppress the warning\n",
      "  warnings.warn(\n"
     ]
    }
   ],
   "source": [
    "#k_means_classification --> k_means_clustering, confsion_matrix, reassigning\n",
    "kmeans=KMeans(n_clusters=2,random_state=0,algorithm=\"elkan\",max_iter=10000)\n",
    "kmeans.fit(train_features)\n",
    "kmeans_predicted_train_labels=kmeans.predict(train_features)\n"
   ]
  },
  {
   "cell_type": "code",
   "execution_count": 6,
   "metadata": {},
   "outputs": [
    {
     "name": "stdout",
     "output_type": "stream",
     "text": [
      "tn --> true negatives\n",
      "fp --> false positives\n",
      "fn --> false negatives\n",
      "tp --> true positives\n"
     ]
    }
   ],
   "source": [
    "#confusion matrix\n",
    "# tn fp\n",
    "# fn tp\n",
    "print(\"tn --> true negatives\")\n",
    "print(\"fp --> false positives\")\n",
    "print(\"fn --> false negatives\")\n",
    "print(\"tp --> true positives\")\n",
    "tn,fp,fn,tp=confusion_matrix(train_labels,kmeans_predicted_train_labels).ravel()\n",
    "reassignflag=False\n",
    "if tn+tp<fn+fp:\n",
    "\t# clustering is opposite of original classification\n",
    "\treassignflag=True\n",
    "kmeans_predicted_test_labels=kmeans.predict(test_features)\n",
    "if reassignflag:\n",
    "\tkmeans_predicted_test_labels=1-kmeans_predicted_test_labels\n"
   ]
  },
  {
   "cell_type": "code",
   "execution_count": 7,
   "metadata": {},
   "outputs": [],
   "source": [
    "#calculating confusion matrix for kmeans\n",
    "tn,fp,fn,tp=confusion_matrix(test_labels,kmeans_predicted_test_labels).ravel()\n",
    "#scoring kmeans\n",
    "kmeans_accuracy_score=accuracy_score(test_labels,kmeans_predicted_test_labels)\n",
    "kmeans_precison_score=precision_score(test_labels,kmeans_predicted_test_labels)\n",
    "kmeans_recall_score=recall_score(test_labels,kmeans_predicted_test_labels)\n",
    "kmeans_f1_score=f1_score(test_labels,kmeans_predicted_test_labels)"
   ]
  },
  {
   "cell_type": "code",
   "execution_count": 8,
   "metadata": {},
   "outputs": [
    {
     "name": "stdout",
     "output_type": "stream",
     "text": [
      "\n",
      "K-Means\n",
      "Confusion Matrix\n",
      "tn = 22699 fp = 5736\n",
      "fn = 20 tp = 26\n",
      "Scores\n",
      "Accuracy --> 0.7979003546223798\n",
      "Precison --> 0.004512322110378341\n",
      "Recall --> 0.5652173913043478\n",
      "F1 --> 0.008953168044077135\n"
     ]
    }
   ],
   "source": [
    "#printing\n",
    "print(\"\")\n",
    "print(\"K-Means\")\n",
    "print(\"Confusion Matrix\")\n",
    "print(\"tn =\",tn,\"fp =\",fp)\n",
    "print(\"fn =\",fn,\"tp =\",tp)\n",
    "print(\"Scores\")\n",
    "print(\"Accuracy -->\",kmeans_accuracy_score)\n",
    "print(\"Precison -->\",kmeans_precison_score)\n",
    "print(\"Recall -->\",kmeans_recall_score)\n",
    "print(\"F1 -->\",kmeans_f1_score)"
   ]
  }
 ],
 "metadata": {
  "kernelspec": {
   "display_name": "Python 3",
   "language": "python",
   "name": "python3"
  },
  "language_info": {
   "codemirror_mode": {
    "name": "ipython",
    "version": 3
   },
   "file_extension": ".py",
   "mimetype": "text/x-python",
   "name": "python",
   "nbconvert_exporter": "python",
   "pygments_lexer": "ipython3",
   "version": "3.10.4"
  }
 },
 "nbformat": 4,
 "nbformat_minor": 2
}
